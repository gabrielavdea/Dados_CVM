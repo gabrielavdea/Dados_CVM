{
  "nbformat": 4,
  "nbformat_minor": 0,
  "metadata": {
    "colab": {
      "provenance": [],
      "include_colab_link": true
    },
    "kernelspec": {
      "name": "python3",
      "display_name": "Python 3"
    },
    "language_info": {
      "name": "python"
    }
  },
  "cells": [
    {
      "cell_type": "markdown",
      "metadata": {
        "id": "view-in-github",
        "colab_type": "text"
      },
      "source": [
        "<a href=\"https://colab.research.google.com/github/gabrielavdea/Dados_CVM/blob/main/Consumindo_dados_CVM.ipynb\" target=\"_parent\"><img src=\"https://colab.research.google.com/assets/colab-badge.svg\" alt=\"Open In Colab\"/></a>"
      ]
    },
    {
      "cell_type": "code",
      "execution_count": null,
      "metadata": {
        "id": "9VqmkamNoXFP"
      },
      "outputs": [],
      "source": [
        "import zipfile\n",
        "import io\n",
        "import requests\n",
        "import pandas as pd"
      ]
    },
    {
      "cell_type": "code",
      "source": [
        "arquivo = 'ipe_cia_aberta_2022.csv'\n",
        "link = 'https://dados.cvm.gov.br/dados/CIA_ABERTA/DOC/IPE/DADOS/ipe_cia_aberta_2022.zip'"
      ],
      "metadata": {
        "id": "zuow3z3ao0gj"
      },
      "execution_count": null,
      "outputs": []
    },
    {
      "cell_type": "code",
      "source": [
        "r = requests.get(link)"
      ],
      "metadata": {
        "id": "msRs2Nboo36U"
      },
      "execution_count": null,
      "outputs": []
    },
    {
      "cell_type": "code",
      "source": [
        "zf = zipfile.ZipFile(io.BytesIO(r.content))"
      ],
      "metadata": {
        "id": "32Ry0Zzio9Ig"
      },
      "execution_count": null,
      "outputs": []
    },
    {
      "cell_type": "code",
      "source": [
        "zf = zf.open(arquivo)"
      ],
      "metadata": {
        "id": "tACx7v8JpCX-"
      },
      "execution_count": null,
      "outputs": []
    },
    {
      "cell_type": "code",
      "source": [
        "lines = zf.readlines()"
      ],
      "metadata": {
        "id": "lMP0qzb0qbs7"
      },
      "execution_count": null,
      "outputs": []
    },
    {
      "cell_type": "code",
      "source": [
        "lines = [i.strip().decode('ISO-8859-1') for i in lines]"
      ],
      "metadata": {
        "id": "eTbKSbFTqk7B"
      },
      "execution_count": null,
      "outputs": []
    },
    {
      "cell_type": "code",
      "source": [
        "lines = [i.split(';') for i in lines]"
      ],
      "metadata": {
        "id": "hIwGJay8rh9l"
      },
      "execution_count": null,
      "outputs": []
    },
    {
      "cell_type": "code",
      "source": [
        "df = pd.DataFrame(lines[1:], columns=lines[0])"
      ],
      "metadata": {
        "id": "R1Dh3piMsjtJ"
      },
      "execution_count": null,
      "outputs": []
    },
    {
      "cell_type": "code",
      "source": [
        "df.to_csv(\"r.csv\")"
      ],
      "metadata": {
        "id": "WHCYIGOvtFib"
      },
      "execution_count": null,
      "outputs": []
    }
  ]
}